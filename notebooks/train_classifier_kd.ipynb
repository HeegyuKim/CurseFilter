{
 "cells": [
  {
   "cell_type": "code",
   "execution_count": 1,
   "metadata": {},
   "outputs": [],
   "source": [
    "%load_ext autoreload\n",
    "%autoreload 2"
   ]
  },
  {
   "cell_type": "code",
   "execution_count": 2,
   "metadata": {},
   "outputs": [],
   "source": [
    "import pandas as pd\n",
    "import numpy as np\n",
    "import torch \n",
    "from torch.utils.data import Dataset, DataLoader\n",
    "from transformers import AutoModelForSequenceClassification, AutoTokenizer\n",
    "from tokenizers import Tokenizer\n",
    "\n",
    "import pytorch_lightning as pl\n",
    "\n",
    "from IPython.display import display\n",
    "from typing import List, Dict, Any, Tuple\n",
    "import os\n",
    "os.environ['CUDA_LAUNCH_BLOCKING'] = \"1\"\n",
    "os.environ[\"CUDA_VISIBLE_DEVICES\"] = \"0\""
   ]
  },
  {
   "cell_type": "code",
   "execution_count": 3,
   "metadata": {},
   "outputs": [],
   "source": [
    "from src.dataset import ApeachDataset\n",
    "\n",
    "\n",
    "class ApeachStudentDataset(ApeachDataset):\n",
    "    def __init__(self,\n",
    "                 teacher_model: torch.nn.Module,\n",
    "                 split: str,\n",
    "                 teacher_tokenizer: Tokenizer, \n",
    "                 student_tokenizer: Tokenizer, \n",
    "                 max_length: int = 256,\n",
    "                 padding: str = \"max_length\",\n",
    "                 device: str=\"cuda\") -> None:\n",
    "        super().__init__(split, student_tokenizer, max_length, padding)\n",
    "        \n",
    "        teacher_ds = ApeachDataset(split, teacher_tokenizer, max_length, padding)\n",
    "\n",
    "        teacher_model = teacher_model.to(device)\n",
    "        with torch.no_grad():\n",
    "            soft_labels = [self._get_soft_label(teacher_model, teacher_ds, i, device) \n",
    "                        for i in range(len(self))]\n",
    "            self.soft_labels = torch.stack(soft_labels)\n",
    "\n",
    "    def __getitem__(self, index: Any) -> Tuple[torch.Tensor, torch.Tensor, torch.Tensor, torch.Tensor]:\n",
    "        return *super().__getitem__(index), self.soft_labels[index]\n",
    "\n",
    "    def _get_soft_label(self, model, teacher_ds, index, device):\n",
    "        ids, mask, _ = teacher_ds[index]\n",
    "        ids = ids.unsqueeze(0).to(device)\n",
    "        mask = mask.unsqueeze(0).to(device)\n",
    "        return model(ids, mask).cpu().squeeze(0)"
   ]
  },
  {
   "cell_type": "code",
   "execution_count": 5,
   "metadata": {},
   "outputs": [
    {
     "name": "stderr",
     "output_type": "stream",
     "text": [
      "Some weights of the model checkpoint at beomi/KcELECTRA-base were not used when initializing ElectraForSequenceClassification: ['discriminator_predictions.dense_prediction.bias', 'discriminator_predictions.dense.weight', 'discriminator_predictions.dense.bias', 'discriminator_predictions.dense_prediction.weight']\n",
      "- This IS expected if you are initializing ElectraForSequenceClassification from the checkpoint of a model trained on another task or with another architecture (e.g. initializing a BertForSequenceClassification model from a BertForPreTraining model).\n",
      "- This IS NOT expected if you are initializing ElectraForSequenceClassification from the checkpoint of a model that you expect to be exactly identical (initializing a BertForSequenceClassification model from a BertForSequenceClassification model).\n",
      "Some weights of ElectraForSequenceClassification were not initialized from the model checkpoint at beomi/KcELECTRA-base and are newly initialized: ['classifier.dense.bias', 'classifier.out_proj.weight', 'classifier.dense.weight', 'classifier.out_proj.bias']\n",
      "You should probably TRAIN this model on a down-stream task to be able to use it for predictions and inference.\n"
     ]
    },
    {
     "name": "stdout",
     "output_type": "stream",
     "text": [
      "['hate']\n"
     ]
    }
   ],
   "source": [
    "from src.lit_module import TextClassificationModule\n",
    "\n",
    "device = 'cuda'\n",
    "teacher_huggingface_model_name = 'beomi/KcELECTRA-base'\n",
    "student_hgf_model_name = 'monologg/koelectra-small-v3-discriminator'\n",
    "teacher_tokenizer = AutoTokenizer.from_pretrained(teacher_huggingface_model_name)\n",
    "student_tokenizer = AutoTokenizer.from_pretrained(student_hgf_model_name)\n",
    "\n",
    "curse_teacher = 'ckpt/hate_78.ckpt'\n",
    "bias_teacher = 'ckpt/bias_val_epoch_loss=0.6996.ckpt'\n",
    "hate_teacher = 'ckpt/hate_94_val_acc=0.7973.ckpt'\n",
    "apeach_teacher = 'ckpt/hate_115_val_acc=0.8610.ckpt'\n",
    "teacher_name = apeach_teacher\n",
    "teacher_module = TextClassificationModule.load_from_checkpoint(teacher_name, map_location=device)\n",
    "labels = teacher_module.labels\n",
    "print(labels)"
   ]
  },
  {
   "cell_type": "code",
   "execution_count": 6,
   "metadata": {},
   "outputs": [
    {
     "name": "stderr",
     "output_type": "stream",
     "text": [
      "Using custom data configuration default-1815538999999b94\n",
      "Reusing dataset csv (C:\\Users\\heegyukim\\.cache\\huggingface\\datasets\\csv\\default-1815538999999b94\\0.0.0\\433e0ccc46f9880962cc2b12065189766fbb2bee57a221866138fb9203c83519)\n",
      "100%|██████████| 2/2 [00:00<00:00, 181.78it/s]\n",
      "Using custom data configuration default-1815538999999b94\n",
      "Reusing dataset csv (C:\\Users\\heegyukim\\.cache\\huggingface\\datasets\\csv\\default-1815538999999b94\\0.0.0\\433e0ccc46f9880962cc2b12065189766fbb2bee57a221866138fb9203c83519)\n",
      "100%|██████████| 2/2 [00:00<00:00, 999.83it/s]\n",
      "Using custom data configuration default-1815538999999b94\n",
      "Reusing dataset csv (C:\\Users\\heegyukim\\.cache\\huggingface\\datasets\\csv\\default-1815538999999b94\\0.0.0\\433e0ccc46f9880962cc2b12065189766fbb2bee57a221866138fb9203c83519)\n",
      "100%|██████████| 2/2 [00:00<00:00, 999.83it/s]\n",
      "Using custom data configuration default-1815538999999b94\n",
      "Reusing dataset csv (C:\\Users\\heegyukim\\.cache\\huggingface\\datasets\\csv\\default-1815538999999b94\\0.0.0\\433e0ccc46f9880962cc2b12065189766fbb2bee57a221866138fb9203c83519)\n",
      "100%|██████████| 2/2 [00:00<00:00, 999.60it/s]\n"
     ]
    }
   ],
   "source": [
    "max_length = 32\n",
    "\n",
    "train_ds = ApeachStudentDataset(\n",
    "    teacher_module, \n",
    "    \"train\",\n",
    "    teacher_tokenizer,\n",
    "    student_tokenizer,\n",
    "    max_length=max_length, \n",
    "    device=device)\n",
    "\n",
    "val_ds = ApeachStudentDataset(\n",
    "    teacher_module,\n",
    "    \"test\",\n",
    "    teacher_tokenizer,\n",
    "    student_tokenizer,\n",
    "    max_length=max_length, \n",
    "    device=device)\n",
    "\n",
    "del teacher_module\n",
    "del teacher_tokenizer"
   ]
  },
  {
   "cell_type": "code",
   "execution_count": 7,
   "metadata": {},
   "outputs": [
    {
     "name": "stdout",
     "output_type": "stream",
     "text": [
      "tensor([    2,    21,    16,    22,  4162, 20476,  5618, 18781,    23,    16,\n",
      "           24,  4162,  6598,  4129,  6406,  4034,  9753,  6395, 10976,  4820,\n",
      "         4244,     3,     0,     0,     0,     0,     0,     0,     0,     0,\n",
      "            0,     0]) tensor([1, 1, 1, 1, 1, 1, 1, 1, 1, 1, 1, 1, 1, 1, 1, 1, 1, 1, 1, 1, 1, 1, 0, 0,\n",
      "        0, 0, 0, 0, 0, 0, 0, 0]) tensor(0.) tensor(0.0284) 7896\n"
     ]
    }
   ],
   "source": [
    "ids, mask, label, soft_label = train_ds[3]\n",
    "print(ids, mask, label, soft_label, len(train_ds))"
   ]
  },
  {
   "cell_type": "code",
   "execution_count": 8,
   "metadata": {},
   "outputs": [
    {
     "data": {
      "image/png": "[encoded data removed]",
      "text/plain": [
       "<Figure size 432x288 with 1 Axes>"
      ]
     },
     "metadata": {
      "needs_background": "light"
     },
     "output_type": "display_data"
    },
    {
     "data": {
      "image/png": "[encoded data removed]",
      "text/plain": [
       "<Figure size 432x288 with 1 Axes>"
      ]
     },
     "metadata": {
      "needs_background": "light"
     },
     "output_type": "display_data"
    }
   ],
   "source": [
    "import matplotlib.pyplot as plt\n",
    "\n",
    "\n",
    "df = pd.DataFrame(train_ds.soft_labels.numpy(), columns=labels)\n",
    "for label in labels:\n",
    "    df[label].plot.hist(bins=20)\n",
    "    plt.title(f\"{label} - Teacher predictions(train)\")\n",
    "    plt.show()\n",
    "\n",
    "df = pd.DataFrame(val_ds.soft_labels.numpy(), columns=labels)\n",
    "for label in labels:\n",
    "    df[label].plot.hist(bins=20)\n",
    "    plt.title(f\"{label} - Teacher predictions(val)\")\n",
    "    plt.show()\n"
   ]
  },
  {
   "cell_type": "code",
   "execution_count": 9,
   "metadata": {},
   "outputs": [],
   "source": [
    "import torch\n",
    "import torch.nn as nn\n",
    "import torch.nn.functional as F\n",
    "import torch.optim as optim\n",
    "import torchmetrics.functional as tm\n",
    "import pytorch_lightning as pl\n",
    "from transformers import BertForSequenceClassification, AutoTokenizer\n",
    "\n",
    "\n",
    "def join_step_outputs(outputs):\n",
    "    result = {}\n",
    "    keys = outputs[0].keys()\n",
    "    for k in keys:\n",
    "        X = [x[k] for x in outputs]\n",
    "        if X[0].dim() == 0: # zero-dim tensor\n",
    "            result[k] = torch.stack(X)\n",
    "        else:\n",
    "            result[k] = torch.cat(X, dim=0)\n",
    "    return result\n",
    "\n",
    "\n",
    "class TextClassificationStudentModule(pl.LightningModule):\n",
    "    def __init__(self, config, labels, lr=5e-4, alpha=1.0):\n",
    "        super().__init__()\n",
    "        self.save_hyperparameters()\n",
    "        if isinstance(config, str):\n",
    "            self.model = AutoModelForSequenceClassification.from_pretrained(config, num_labels=len(labels))\n",
    "        else:\n",
    "            self.model = BertForSequenceClassification(config)\n",
    "        self.multiclass = len(labels) > 1\n",
    "        self.criterion = nn.CrossEntropyLoss() if self.multiclass else nn.BCELoss()\n",
    "        self.soft_label_criterion = nn.BCELoss() # nn.KLDivLoss(reduction='batchmean')\n",
    "        self.labels = labels\n",
    "    \n",
    "    def configure_optimizers(self):\n",
    "        opt = optim.Adam(self.parameters(), lr=self.hparams.lr)\n",
    "        return opt\n",
    "        # sched = optim.lr_scheduler.StepLR(opt, 200, 0.5)\n",
    "        # return [opt], [sched]\n",
    "\n",
    "    def forward(self, input_ids, attention_mask=None):\n",
    "        logits = self.model(input_ids, attention_mask=attention_mask).logits\n",
    "        if self.multiclass:\n",
    "            logits = logits.softmax(dim=-1)\n",
    "        else:\n",
    "            logits = logits.sigmoid().squeeze(1).float()\n",
    "        return logits\n",
    "\n",
    "    def _shared_step(self, batch):\n",
    "        ids, masks, labels, soft_labels = batch\n",
    "        alpha = self.hparams.alpha\n",
    "\n",
    "        logits = self(ids, masks)\n",
    "        ce_loss = self.criterion(logits, labels)\n",
    "        kd_loss = self.soft_label_criterion(logits, soft_labels)\n",
    "        loss = alpha * ce_loss + (1 - alpha) * kd_loss\n",
    "\n",
    "        return {\"loss\": loss, \"logits\": logits, \"labels\": labels, \n",
    "                \"ce_loss\": ce_loss, \"kd_loss\": kd_loss}\n",
    "\n",
    "    def training_step(self, batch, batch_idx):\n",
    "        return self._shared_step(batch)\n",
    "    \n",
    "    def validation_step(self, batch, batch_idx):\n",
    "        return self._shared_step(batch)\n",
    "    \n",
    "    def _shared_epoch_end(self, outputs, stage):\n",
    "        outputs = join_step_outputs(outputs)\n",
    "        loss_names = [\"loss\", \"ce_loss\", \"kd_loss\"]\n",
    "        for name in loss_names:\n",
    "            loss = outputs[name].mean()\n",
    "            self.log(f\"{stage}_epoch_{name}\", loss, prog_bar=True)\n",
    "\n",
    "        logits = outputs[\"logits\"]\n",
    "        labels = outputs[\"labels\"]\n",
    "        acc = tm.accuracy(logits, labels.int())\n",
    "        self.log(f\"{stage}_acc\", acc, prog_bar=True)\n",
    "        \n",
    "    def training_epoch_end(self, outputs):\n",
    "        self._shared_epoch_end(outputs, \"train\")\n",
    "        \n",
    "    def validation_epoch_end(self, outputs):\n",
    "        self._shared_epoch_end(outputs, \"val\")"
   ]
  },
  {
   "cell_type": "code",
   "execution_count": 15,
   "metadata": {},
   "outputs": [
    {
     "name": "stderr",
     "output_type": "stream",
     "text": [
      "Some weights of the model checkpoint at monologg/koelectra-small-v3-discriminator were not used when initializing ElectraForSequenceClassification: ['discriminator_predictions.dense_prediction.bias', 'discriminator_predictions.dense.weight', 'discriminator_predictions.dense.bias', 'discriminator_predictions.dense_prediction.weight']\n",
      "- This IS expected if you are initializing ElectraForSequenceClassification from the checkpoint of a model trained on another task or with another architecture (e.g. initializing a BertForSequenceClassification model from a BertForPreTraining model).\n",
      "- This IS NOT expected if you are initializing ElectraForSequenceClassification from the checkpoint of a model that you expect to be exactly identical (initializing a BertForSequenceClassification model from a BertForSequenceClassification model).\n",
      "Some weights of ElectraForSequenceClassification were not initialized from the model checkpoint at monologg/koelectra-small-v3-discriminator and are newly initialized: ['classifier.dense.bias', 'classifier.out_proj.weight', 'classifier.dense.weight', 'classifier.out_proj.bias']\n",
      "You should probably TRAIN this model on a down-stream task to be able to use it for predictions and inference.\n",
      "GPU available: True, used: True\n",
      "TPU available: False, using: 0 TPU cores\n",
      "IPU available: False, using: 0 IPUs\n",
      "HPU available: False, using: 0 HPUs\n",
      "D:\\Anaconda3\\lib\\site-packages\\pytorch_lightning\\callbacks\\model_checkpoint.py:608: UserWarning: Checkpoint directory C:\\Users\\heegyukim\\Desktop\\CurseFilter\\ckpt exists and is not empty.\n",
      "  rank_zero_warn(f\"Checkpoint directory {dirpath} exists and is not empty.\")\n",
      "LOCAL_RANK: 0 - CUDA_VISIBLE_DEVICES: [0]\n",
      "\n",
      "  | Name                 | Type                             | Params\n",
      "--------------------------------------------------------------------------\n",
      "0 | model                | ElectraForSequenceClassification | 14.1 M\n",
      "1 | criterion            | BCELoss                          | 0     \n",
      "2 | soft_label_criterion | BCELoss                          | 0     \n",
      "--------------------------------------------------------------------------\n",
      "14.1 M    Trainable params\n",
      "0         Non-trainable params\n",
      "14.1 M    Total params\n",
      "56.489    Total estimated model params size (MB)\n"
     ]
    },
    {
     "name": "stdout",
     "output_type": "stream",
     "text": [
      "Sanity Checking DataLoader 0:   0%|          | 0/2 [00:00<?, ?it/s]"
     ]
    },
    {
     "name": "stderr",
     "output_type": "stream",
     "text": [
      "D:\\Anaconda3\\lib\\site-packages\\pytorch_lightning\\trainer\\connectors\\data_connector.py:240: PossibleUserWarning: The dataloader, val_dataloader 0, does not have many workers which may be a bottleneck. Consider increasing the value of the `num_workers` argument` (try 12 which is the number of cpus on this machine) in the `DataLoader` init to improve performance.\n",
      "  rank_zero_warn(\n"
     ]
    },
    {
     "name": "stdout",
     "output_type": "stream",
     "text": [
      "                                                                           "
     ]
    },
    {
     "name": "stderr",
     "output_type": "stream",
     "text": [
      "D:\\Anaconda3\\lib\\site-packages\\pytorch_lightning\\trainer\\connectors\\data_connector.py:240: PossibleUserWarning: The dataloader, train_dataloader, does not have many workers which may be a bottleneck. Consider increasing the value of the `num_workers` argument` (try 12 which is the number of cpus on this machine) in the `DataLoader` init to improve performance.\n",
      "  rank_zero_warn(\n"
     ]
    },
    {
     "name": "stdout",
     "output_type": "stream",
     "text": [
      "Epoch 9:  12%|█▏        | 29/242 [04:41<34:28,  9.71s/it, loss=0.183, v_num=126, val_epoch_loss=0.922, val_epoch_ce_loss=0.922, val_epoch_kd_loss=0.778, val_acc=0.710, train_epoch_loss=0.189, train_epoch_ce_loss=0.189, train_epoch_kd_loss=0.424, train_acc=0.933]   "
     ]
    },
    {
     "name": "stderr",
     "output_type": "stream",
     "text": [
      "D:\\Anaconda3\\lib\\site-packages\\pytorch_lightning\\trainer\\trainer.py:727: UserWarning: Detected KeyboardInterrupt, attempting graceful shutdown...\n",
      "  rank_zero_warn(\"Detected KeyboardInterrupt, attempting graceful shutdown...\")\n"
     ]
    }
   ],
   "source": [
    "from pytorch_lightning.callbacks import ModelCheckpoint, LearningRateMonitor\n",
    "from pytorch_lightning.callbacks.early_stopping import EarlyStopping\n",
    "from transformers import BertConfig\n",
    "\n",
    "batch_size = 64\n",
    "alpha = 1.0\n",
    "\n",
    "logger = pl.loggers.TensorBoardLogger(\n",
    "    save_dir='.',\n",
    "    name='lightning_logs'\n",
    ")\n",
    "save_dir = \"./ckpt/\"\n",
    "checkpoint_callback = ModelCheckpoint(\n",
    "    monitor=\"val_epoch_loss\",\n",
    "    dirpath=save_dir,\n",
    "    filename=f\"curse_{logger.version}\",\n",
    "    mode=\"min\",\n",
    ")\n",
    "config = {\n",
    "    \"max_position_embeddings\": 300,\n",
    "    \"hidden_dropout_prob\": 0.1,\n",
    "    \"hidden_act\": \"gelu\",\n",
    "    \"initializer_range\": 0.02, \n",
    "    \"pooler_num_attention_heads\": 12,\n",
    "    \"type_vocab_size\": 2,\n",
    "    \"vocab_size\": 30000,\n",
    "    \"attention_probs_dropout_prob\": 0.1,\n",
    "    \"num_hidden_layers\": 2,# 12 to 2(tiny), 4(small)\n",
    "    \"hidden_size\": 512, # 768 to 128(tiny) 512(small)\n",
    "    \"num_attention_heads\": 8, # 12 to 2(tiny) 8(small)\n",
    "    \"intermediate_size\": 2048, # 3072 to 512(tiny), 2048(small)\n",
    "    \"num_labels\": len(labels)\n",
    "}\n",
    "config = BertConfig(**config)\n",
    "module = TextClassificationStudentModule(\n",
    "    student_hgf_model_name,\n",
    "    labels=labels,\n",
    "    lr=5e-5,\n",
    "    alpha=alpha\n",
    ")\n",
    "callbacks = [\n",
    "    EarlyStopping(\"val_epoch_loss\", mode=\"min\", patience=10),\n",
    "    checkpoint_callback,\n",
    "    LearningRateMonitor(\"step\")\n",
    "]\n",
    "\n",
    "trainer = pl.Trainer(max_epochs=1000, \n",
    "                logger=logger,\n",
    "                gpus=1 if torch.cuda.is_available() else 0,\n",
    "                val_check_interval=50,\n",
    "                callbacks=callbacks)\n",
    "trainer.fit(\n",
    "    module,\n",
    "    train_ds.dataloader(batch_size=batch_size),\n",
    "    val_ds.dataloader(batch_size=batch_size))"
   ]
  },
  {
   "cell_type": "code",
   "execution_count": null,
   "metadata": {},
   "outputs": [],
   "source": [
    "trainer.save_checkpoint(f\"trained_models/hate-small-best-weights-{logger.version}.ckpt\", weights_only=True)"
   ]
  }
 ],
 "metadata": {
  "interpreter": {
   "hash": "a8f61be024eba58adef938c9aa1e29e02cb3dece83a5348b1a2dafd16a070453"
  },
  "kernelspec": {
   "display_name": "Python 3.9.7 ('base')",
   "language": "python",
   "name": "python3"
  },
  "language_info": {
   "codemirror_mode": {
    "name": "ipython",
    "version": 3
   },
   "file_extension": ".py",
   "mimetype": "text/x-python",
   "name": "python",
   "nbconvert_exporter": "python",
   "pygments_lexer": "ipython3",
   "version": "3.9.7"
  },
  "orig_nbformat": 4
 },
 "nbformat": 4,
 "nbformat_minor": 2
}

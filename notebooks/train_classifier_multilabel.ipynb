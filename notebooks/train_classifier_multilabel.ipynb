{
 "cells": [
  {
   "cell_type": "code",
   "execution_count": 8,
   "metadata": {},
   "outputs": [],
   "source": [
    "import pandas as pd\n",
    "import numpy as np\n",
    "import torch \n",
    "from torch.utils.data import Dataset, DataLoader\n",
    "from transformers import AutoModelForSequenceClassification, AutoTokenizer\n",
    "from tokenizers import Tokenizer\n",
    "\n",
    "import pytorch_lightning as pl\n",
    "\n",
    "from IPython.display import display\n",
    "from typing import List, Dict, Any"
   ]
  },
  {
   "cell_type": "code",
   "execution_count": 54,
   "metadata": {},
   "outputs": [],
   "source": [
    "class DataFrameDataset(Dataset):\n",
    "    def __init__(self,\n",
    "                 tokenizer: Tokenizer, \n",
    "                 df: pd.DataFrame,\n",
    "                 label_columns: List[str],\n",
    "                 max_length: int = 256,\n",
    "                 padding: str = \"max_length\") -> None:\n",
    "        super().__init__()\n",
    "        inputs = tokenizer(df.comments.to_list(), padding=padding, max_length=max_length, truncation=True, return_tensors=\"pt\")\n",
    "        self.input_ids = inputs[\"input_ids\"]\n",
    "        self.attention_masks = inputs[\"attention_mask\"]\n",
    "        self.label_columns = label_columns\n",
    "        self.labels = torch.from_numpy(df[label_columns].values.astype(np.float32))\n",
    "\n",
    "    def __len__(self):\n",
    "        return self.input_ids.shape[0]\n",
    "\n",
    "    def __getitem__(self, index: Any) -> Dict:\n",
    "        return self.input_ids[index], self.attention_masks[index], self.labels[index]\n",
    "\n",
    "    def dataloader(self, **kwargs) -> DataLoader:\n",
    "        return DataLoader(self, **kwargs)"
   ]
  },
  {
   "cell_type": "code",
   "execution_count": 11,
   "metadata": {},
   "outputs": [],
   "source": [
    "huggingface_model_name = \"beomi/kcbert-base\"\n",
    "tokenizer = AutoTokenizer.from_pretrained(huggingface_model_name)"
   ]
  },
  {
   "cell_type": "code",
   "execution_count": 55,
   "metadata": {},
   "outputs": [
    {
     "name": "stdout",
     "output_type": "stream",
     "text": [
      "                                                                   \r"
     ]
    }
   ],
   "source": [
    "max_length = 64\n",
    "batch_size = 16\n",
    "label_columns = [\"hate_hate\", \"hate_none\", \"hate_offensive\"]\n",
    "train_dl = DataFrameDataset(tokenizer, pd.read_csv(\"data/khs_train.csv\"), label_columns=label_columns, max_length=max_length) \\\n",
    "                        .dataloader(batch_size=batch_size)\n",
    "val_dl = DataFrameDataset(tokenizer, pd.read_csv(\"data/khs_dev.csv\"), label_columns=label_columns, max_length=max_length) \\\n",
    "                        .dataloader(batch_size=batch_size)"
   ]
  },
  {
   "cell_type": "code",
   "execution_count": 105,
   "metadata": {},
   "outputs": [],
   "source": [
    "import torch\n",
    "import torch.nn as nn\n",
    "import torch.nn.functional as F\n",
    "import torch.optim as optim\n",
    "import torchmetrics.functional as tm\n",
    "from sklearn.metrics import multilabel_confusion_matrix\n",
    "\n",
    "\n",
    "def join_step_outputs(outputs):\n",
    "    result = {}\n",
    "    keys = outputs[0].keys()\n",
    "    for k in keys:\n",
    "        # for x in outputs:\n",
    "        #     x = x[k]\n",
    "        #     print(k, x.shape, x)\n",
    "        X = [x[k] for x in outputs]\n",
    "        if X[0].dim() == 0: # zero-dim tensor\n",
    "            result[k] = torch.stack(X)\n",
    "        else:\n",
    "            result[k] = torch.cat(X, dim=0)\n",
    "    return result\n",
    "\n",
    "# https://stackoverflow.com/questions/61524717/pytorch-how-to-find-accuracy-for-multi-label-classification\n",
    "def multilabel_accuracy(logits: torch.Tensor, labels: torch.Tensor, threshold: int=0.5) -> torch.Tensor:\n",
    "    N, C = logits.shape\n",
    "    logits = (logits >= threshold).int()\n",
    "    acc = (logits == labels).sum(dim=0) / N\n",
    "\n",
    "    return acc\n",
    "\n",
    "\n",
    "\n",
    "class TextClassificationModule(pl.LightningModule):\n",
    "    def __init__(self, huggingface_model_name, num_labels, labels, lr=5e-4):\n",
    "        super().__init__()\n",
    "        self.save_hyperparameters()\n",
    "        self.model = AutoModelForSequenceClassification.from_pretrained(huggingface_model_name, num_labels=num_labels)\n",
    "        self.loss_fn = nn.BCELoss()\n",
    "        self.labels = labels\n",
    "    \n",
    "    def configure_optimizers(self):\n",
    "        return optim.Adam(self.parameters(), lr=self.hparams.lr)\n",
    "\n",
    "    def forward(self, input_ids, attention_mask=None):\n",
    "        logits = self.model(input_ids, attention_mask=attention_mask).logits.sigmoid()\n",
    "        return logits\n",
    "\n",
    "    def training_step(self, batch, batch_idx):\n",
    "        ids, masks, labels = batch\n",
    "        logits = self(ids, masks)\n",
    "        loss = self.loss_fn(logits, labels)\n",
    "        output = {\"loss\": loss, \"logits\": logits, \"labels\": labels}\n",
    "        return output\n",
    "    \n",
    "    def training_epoch_end(self, outputs):\n",
    "        outputs = join_step_outputs(outputs)\n",
    "        loss = outputs[\"loss\"].mean()\n",
    "        self.log(\"train_epoch_loss\", loss)\n",
    "\n",
    "        logits = outputs[\"logits\"]\n",
    "        labels = outputs[\"labels\"]\n",
    "        acc = multilabel_accuracy(logits, labels)\n",
    "        for label, label_acc in zip(self.labels, acc):\n",
    "            self.log(f\"train_{label}_acc\", label_acc, prog_bar=True)\n",
    "        \n",
    "    def validation_step(self, batch, batch_idx):\n",
    "        ids, masks, labels = batch\n",
    "        logits = self(ids, masks)\n",
    "        loss = self.loss_fn(logits, labels)\n",
    "        output = {\"loss\": loss, \"logits\": logits, \"labels\": labels}\n",
    "        return output\n",
    "    \n",
    "    def validation_epoch_end(self, outputs):\n",
    "        outputs = join_step_outputs(outputs)\n",
    "        loss = outputs[\"loss\"].mean()\n",
    "        self.log(\"val_epoch_loss\", loss, prog_bar=True)\n",
    "\n",
    "        logits = outputs[\"logits\"]\n",
    "        labels = outputs[\"labels\"]\n",
    "        acc = multilabel_accuracy(logits, labels)\n",
    "        for label, label_acc in zip(self.labels, acc):\n",
    "            self.log(f\"val_{label}_acc\", label_acc, prog_bar=True)\n",
    "\n"
   ]
  },
  {
   "cell_type": "code",
   "execution_count": 106,
   "metadata": {},
   "outputs": [
    {
     "name": "stderr",
     "output_type": "stream",
     "text": [
      "Some weights of the model checkpoint at beomi/kcbert-base were not used when initializing BertForSequenceClassification: ['cls.predictions.transform.dense.weight', 'cls.seq_relationship.bias', 'cls.predictions.transform.LayerNorm.bias', 'cls.predictions.transform.LayerNorm.weight', 'cls.predictions.decoder.bias', 'cls.predictions.bias', 'cls.seq_relationship.weight', 'cls.predictions.decoder.weight', 'cls.predictions.transform.dense.bias']\n",
      "- This IS expected if you are initializing BertForSequenceClassification from the checkpoint of a model trained on another task or with another architecture (e.g. initializing a BertForSequenceClassification model from a BertForPreTraining model).\n",
      "- This IS NOT expected if you are initializing BertForSequenceClassification from the checkpoint of a model that you expect to be exactly identical (initializing a BertForSequenceClassification model from a BertForSequenceClassification model).\n",
      "Some weights of BertForSequenceClassification were not initialized from the model checkpoint at beomi/kcbert-base and are newly initialized: ['classifier.bias', 'classifier.weight']\n",
      "You should probably TRAIN this model on a down-stream task to be able to use it for predictions and inference.\n",
      "GPU available: True, used: True\n",
      "TPU available: False, using: 0 TPU cores\n",
      "IPU available: False, using: 0 IPUs\n",
      "HPU available: False, using: 0 HPUs\n",
      "LOCAL_RANK: 0 - CUDA_VISIBLE_DEVICES: [0]\n",
      "\n",
      "  | Name    | Type                          | Params\n",
      "----------------------------------------------------------\n",
      "0 | model   | BertForSequenceClassification | 108 M \n",
      "1 | loss_fn | BCELoss                       | 0     \n",
      "----------------------------------------------------------\n",
      "108 M     Trainable params\n",
      "0         Non-trainable params\n",
      "108 M     Total params\n",
      "435.683   Total estimated model params size (MB)\n"
     ]
    },
    {
     "name": "stdout",
     "output_type": "stream",
     "text": [
      "                                                                           "
     ]
    },
    {
     "name": "stderr",
     "output_type": "stream",
     "text": [
      "D:\\Anaconda3\\lib\\site-packages\\pytorch_lightning\\trainer\\connectors\\data_connector.py:240: PossibleUserWarning: The dataloader, val_dataloader 0, does not have many workers which may be a bottleneck. Consider increasing the value of the `num_workers` argument` (try 12 which is the number of cpus on this machine) in the `DataLoader` init to improve performance.\n",
      "  rank_zero_warn(\n"
     ]
    },
    {
     "name": "stdout",
     "output_type": "stream",
     "text": [
      "Epoch 0: 100%|██████████| 524/524 [23:29<00:00,  2.69s/it, loss=0.608, v_num=18] val_epoch_loss=0.747, val_hate_hate_acc=0.741, val_hate_none_acc=0.340, val_hate_offensive_acc=0.599, train_hate_hate_acc=0.757, train_hate_none_acc=0.540, train_hate_offensive_acc=0.677]  \n",
      "Epoch 0:  11%|█         | 57/524 [21:44<2:58:07, 22.89s/it, loss=0.632, v_num=19]\n",
      "Epoch 0: 100%|██████████| 49/49 [20:51<00:00, 25.55s/it, loss=0.652, v_num=21]\n",
      "Epoch 0: 100%|██████████| 4/4 [21:30<00:00, 322.57s/it, loss=0.737, v_num=20]\n",
      "Epoch 0: 100%|██████████| 49/49 [18:45<00:00, 22.97s/it, loss=0.645, v_num=22]\n",
      "Epoch 0: 100%|██████████| 49/49 [16:58<00:00, 20.78s/it, loss=0.641, v_num=23]\n",
      "Epoch 0: 100%|██████████| 49/49 [16:00<00:00, 19.61s/it, loss=0.646, v_num=24]\n",
      "Epoch 0: 100%|██████████| 49/49 [12:59<00:00, 15.91s/it, loss=0.647, v_num=25]\n",
      "Epoch 0: 100%|██████████| 49/49 [12:27<00:00, 15.25s/it, loss=0.642, v_num=26]\n",
      "Epoch 0: 100%|██████████| 49/49 [08:14<00:00, 10.09s/it, loss=0.648, v_num=28]\n",
      "Epoch 0: 100%|██████████| 49/49 [09:25<00:00, 11.54s/it, loss=0.624, v_num=27]\n",
      "Epoch 0: 100%|██████████| 49/49 [07:12<00:00,  8.82s/it, loss=0.65, v_num=29]\n",
      "Epoch 0: 100%|██████████| 49/49 [06:19<00:00,  7.74s/it, loss=0.642, v_num=30]\n",
      "Epoch 0: 100%|██████████| 49/49 [05:07<00:00,  6.28s/it, loss=0.64, v_num=31]\n",
      "Epoch 6: 100%|██████████| 524/524 [07:14<00:00,  1.21it/s, loss=0.611, v_num=33, val_epoch_loss=0.749, val_hate_hate_acc=0.741, val_hate_none_acc=0.340, val_hate_offensive_acc=0.599, train_hate_hate_acc=0.758, train_hate_none_acc=0.540, train_hate_offensive_acc=0.680]  \n"
     ]
    }
   ],
   "source": [
    "from pytorch_lightning.callbacks import ModelCheckpoint\n",
    "from pytorch_lightning.callbacks.early_stopping import EarlyStopping\n",
    "            \n",
    "# save_dir = \"./ckpt/\"\n",
    "# checkpoint_callback = ModelCheckpoint(\n",
    "#     monitor=\"val_epoch_loss\",\n",
    "#     dirpath=save_dir,\n",
    "#     filename=f\"{config.name}\" + \"-{epoch:02d}-{val_epoch_loss:.4f}\",\n",
    "#     mode=\"min\",\n",
    "# )\n",
    "\n",
    "module = TextClassificationModule(\n",
    "    huggingface_model_name,\n",
    "    num_labels=len(label_columns),\n",
    "    labels=label_columns,\n",
    "    lr=5e-4\n",
    ")\n",
    "callbacks = [\n",
    "    EarlyStopping(\"val_epoch_loss\", mode=\"min\")\n",
    "]\n",
    "\n",
    "trainer = pl.Trainer(max_epochs=1000, \n",
    "                  gpus=1 if torch.cuda.is_available() else 0,\n",
    "                  callbacks=callbacks)\n",
    "trainer.fit(module, train_dl, val_dl)"
   ]
  },
  {
   "cell_type": "code",
   "execution_count": null,
   "metadata": {},
   "outputs": [],
   "source": []
  }
 ],
 "metadata": {
  "interpreter": {
   "hash": "a8f61be024eba58adef938c9aa1e29e02cb3dece83a5348b1a2dafd16a070453"
  },
  "kernelspec": {
   "display_name": "Python 3.9.7 ('base')",
   "language": "python",
   "name": "python3"
  },
  "language_info": {
   "codemirror_mode": {
    "name": "ipython",
    "version": 3
   },
   "file_extension": ".py",
   "mimetype": "text/x-python",
   "name": "python",
   "nbconvert_exporter": "python",
   "pygments_lexer": "ipython3",
   "version": "3.9.7"
  },
  "orig_nbformat": 4
 },
 "nbformat": 4,
 "nbformat_minor": 2
}
